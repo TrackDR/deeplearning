{
 "cells": [
  {
   "cell_type": "code",
   "execution_count": 1,
   "metadata": {},
   "outputs": [],
   "source": [
    "import tensorflow as tf"
   ]
  },
  {
   "cell_type": "code",
   "execution_count": 2,
   "metadata": {},
   "outputs": [
    {
     "name": "stdout",
     "output_type": "stream",
     "text": [
      "tf.Tensor(b'Hello from TensorFlow 2.4.0-dev20200731', shape=(), dtype=string)\n"
     ]
    }
   ],
   "source": [
    "print( tf.constant( 'Hello from TensorFlow ' + tf.__version__ ) )"
   ]
  },
  {
   "cell_type": "code",
   "execution_count": 3,
   "metadata": {},
   "outputs": [
    {
     "name": "stdout",
     "output_type": "stream",
     "text": [
      "Found GPU at: /device:GPU:0\n"
     ]
    }
   ],
   "source": [
    "device_name = tf.test.gpu_device_name()\n",
    "if device_name != '/device:GPU:0':\n",
    "  raise SystemError('GPU device not found')\n",
    "print('Found GPU at: {}'.format(device_name))"
   ]
  },
  {
   "cell_type": "code",
   "execution_count": 4,
   "metadata": {},
   "outputs": [],
   "source": [
    "mnist = tf.keras.datasets.mnist"
   ]
  },
  {
   "cell_type": "code",
   "execution_count": 5,
   "metadata": {},
   "outputs": [],
   "source": [
    "(train_images, train_labels), (test_images, test_labels) = mnist.load_data()"
   ]
  },
  {
   "cell_type": "code",
   "execution_count": 6,
   "metadata": {},
   "outputs": [],
   "source": [
    "train_images = train_images.reshape(60000, 28, 28, 1)\n",
    "\n",
    "test_images = test_images.reshape(10000, 28, 28, 1)\n",
    "\n",
    "train_images, test_images = train_images/255, test_images/255"
   ]
  },
  {
   "cell_type": "code",
   "execution_count": 7,
   "metadata": {},
   "outputs": [],
   "source": [
    "model = tf.keras.Sequential([\n",
    "    tf.keras.layers.Conv2D(32, (3,3), activation='relu', input_shape=(28,28,1)),\n",
    "    tf.keras.layers.Conv2D(64, (3,3), activation='relu'),\n",
    "    tf.keras.layers.MaxPooling2D(2,2),\n",
    "    tf.keras.layers.Dropout(0.25),\n",
    "    tf.keras.layers.Flatten(),\n",
    "    tf.keras.layers.Dense(128, activation='relu'),\n",
    "    tf.keras.layers.Dropout(0.5),\n",
    "    tf.keras.layers.Dense(10, activation='softmax')\n",
    "])"
   ]
  },
  {
   "cell_type": "code",
   "execution_count": 8,
   "metadata": {},
   "outputs": [],
   "source": [
    "model.compile(optimizer='adam', loss='sparse_categorical_crossentropy', metrics=['accuracy'])"
   ]
  },
  {
   "cell_type": "code",
   "execution_count": 9,
   "metadata": {},
   "outputs": [],
   "source": [
    "tensor_board = tf.keras.callbacks.TensorBoard('.\\logs\\LeNet-MNIST-1')"
   ]
  },
  {
   "cell_type": "code",
   "execution_count": 10,
   "metadata": {},
   "outputs": [
    {
     "name": "stdout",
     "output_type": "stream",
     "text": [
      "Epoch 1/15\n",
      "  1/469 [..............................] - ETA: 40:51 - loss: 2.2975 - accuracy: 0.0859WARNING:tensorflow:From C:\\Users\\jjacks29\\Anaconda3-2020-07\\envs\\tf-gpu2\\lib\\site-packages\\tensorflow\\python\\ops\\summary_ops_v2.py:1371: stop (from tensorflow.python.eager.profiler) is deprecated and will be removed after 2020-07-01.\n",
      "Instructions for updating:\n",
      "use `tf.profiler.experimental.stop` instead.\n",
      "  2/469 [..............................] - ETA: 21:28 - loss: 2.2709 - accuracy: 0.1133WARNING:tensorflow:Callbacks method `on_train_batch_begin` is slow compared to the batch time (batch time: 0.0070s vs `on_train_batch_begin` time: 0.0140s). Check your callbacks.\n",
      "WARNING:tensorflow:Callbacks method `on_train_batch_end` is slow compared to the batch time (batch time: 0.0070s vs `on_train_batch_end` time: 0.2570s). Check your callbacks.\n",
      "469/469 [==============================] - 11s 23ms/step - loss: 0.4984 - accuracy: 0.8406 - val_loss: 0.0521 - val_accuracy: 0.9833\n",
      "Epoch 2/15\n",
      "469/469 [==============================] - 5s 10ms/step - loss: 0.0926 - accuracy: 0.9713 - val_loss: 0.0394 - val_accuracy: 0.9866\n",
      "Epoch 3/15\n",
      "469/469 [==============================] - 5s 10ms/step - loss: 0.0651 - accuracy: 0.9813 - val_loss: 0.0358 - val_accuracy: 0.9877\n",
      "Epoch 4/15\n",
      "469/469 [==============================] - 5s 10ms/step - loss: 0.0545 - accuracy: 0.9830 - val_loss: 0.0307 - val_accuracy: 0.9903\n",
      "Epoch 5/15\n",
      "469/469 [==============================] - 5s 10ms/step - loss: 0.0439 - accuracy: 0.9864 - val_loss: 0.0298 - val_accuracy: 0.9899\n",
      "Epoch 6/15\n",
      "469/469 [==============================] - 5s 10ms/step - loss: 0.0411 - accuracy: 0.9873 - val_loss: 0.0302 - val_accuracy: 0.9911\n",
      "Epoch 7/15\n",
      "469/469 [==============================] - 5s 10ms/step - loss: 0.0341 - accuracy: 0.9893 - val_loss: 0.0284 - val_accuracy: 0.9917\n",
      "Epoch 8/15\n",
      "469/469 [==============================] - 5s 10ms/step - loss: 0.0318 - accuracy: 0.9901 - val_loss: 0.0300 - val_accuracy: 0.9912\n",
      "Epoch 9/15\n",
      "469/469 [==============================] - 5s 10ms/step - loss: 0.0294 - accuracy: 0.9902 - val_loss: 0.0289 - val_accuracy: 0.9915\n",
      "Epoch 10/15\n",
      "469/469 [==============================] - 5s 10ms/step - loss: 0.0264 - accuracy: 0.9911 - val_loss: 0.0261 - val_accuracy: 0.9924\n",
      "Epoch 11/15\n",
      "469/469 [==============================] - 5s 10ms/step - loss: 0.0238 - accuracy: 0.9924 - val_loss: 0.0268 - val_accuracy: 0.9926\n",
      "Epoch 12/15\n",
      "469/469 [==============================] - 5s 10ms/step - loss: 0.0191 - accuracy: 0.9936 - val_loss: 0.0292 - val_accuracy: 0.9914\n",
      "Epoch 13/15\n",
      "469/469 [==============================] - 5s 10ms/step - loss: 0.0216 - accuracy: 0.9927 - val_loss: 0.0283 - val_accuracy: 0.9922\n",
      "Epoch 14/15\n",
      "469/469 [==============================] - 5s 10ms/step - loss: 0.0178 - accuracy: 0.9939 - val_loss: 0.0267 - val_accuracy: 0.9927\n",
      "Epoch 15/15\n",
      "469/469 [==============================] - 5s 10ms/step - loss: 0.0172 - accuracy: 0.9937 - val_loss: 0.0285 - val_accuracy: 0.9914\n",
      "Training took 75.39378261566162 seconds\n"
     ]
    }
   ],
   "source": [
    "import time\n",
    "\n",
    "start_time=time.time()\n",
    "model.fit(train_images, train_labels, batch_size=128, epochs=15, verbose=1, validation_data=(test_images, test_labels), callbacks=[tensor_board])\n",
    "#model.fit(train_images, train_labels, batch_size=128, epochs=15, verbose=1, validation_data=(test_images, test_labels))\n",
    "print('Training took {} seconds'.format(time.time()-start_time))"
   ]
  },
  {
   "cell_type": "code",
   "execution_count": 11,
   "metadata": {},
   "outputs": [
    {
     "name": "stdout",
     "output_type": "stream",
     "text": [
      "313/313 - 1s - loss: 0.0300 - accuracy: 0.9923\n"
     ]
    },
    {
     "data": {
      "text/plain": [
       "[0.029968637973070145, 0.9922999739646912]"
      ]
     },
     "execution_count": 11,
     "metadata": {},
     "output_type": "execute_result"
    }
   ],
   "source": [
    "model.evaluate(test_images, test_labels, verbose=2)"
   ]
  },
  {
   "cell_type": "code",
   "execution_count": 12,
   "metadata": {},
   "outputs": [],
   "source": [
    "probability_model = tf.keras.Sequential([\n",
    "  model,\n",
    "  tf.keras.layers.Softmax()\n",
    "])"
   ]
  },
  {
   "cell_type": "code",
   "execution_count": 13,
   "metadata": {},
   "outputs": [
    {
     "data": {
      "text/plain": [
       "<tf.Tensor: shape=(5, 10), dtype=float32, numpy=\n",
       "array([[0.08533674, 0.08533674, 0.08533674, 0.08533674, 0.08533674,\n",
       "        0.08533674, 0.08533674, 0.23196931, 0.08533674, 0.08533674],\n",
       "       [0.08533674, 0.08533674, 0.23196927, 0.08533674, 0.08533674,\n",
       "        0.08533674, 0.08533674, 0.08533674, 0.08533674, 0.08533674],\n",
       "       [0.08533674, 0.23196931, 0.08533674, 0.08533674, 0.08533674,\n",
       "        0.08533674, 0.08533674, 0.08533674, 0.08533674, 0.08533674],\n",
       "       [0.23196909, 0.08533676, 0.08533676, 0.08533676, 0.08533676,\n",
       "        0.08533676, 0.08533686, 0.08533676, 0.08533676, 0.08533676],\n",
       "       [0.08533674, 0.08533674, 0.08533674, 0.08533674, 0.23196927,\n",
       "        0.08533674, 0.08533674, 0.08533674, 0.08533674, 0.08533674]],\n",
       "      dtype=float32)>"
      ]
     },
     "execution_count": 13,
     "metadata": {},
     "output_type": "execute_result"
    }
   ],
   "source": [
    "probability_model(test_images[:5])"
   ]
  },
  {
   "cell_type": "code",
   "execution_count": null,
   "metadata": {},
   "outputs": [],
   "source": []
  }
 ],
 "metadata": {
  "kernelspec": {
   "display_name": "TensorFlow-GPU-1.13-2",
   "language": "python",
   "name": "tf-gpu2"
  },
  "language_info": {
   "codemirror_mode": {
    "name": "ipython",
    "version": 3
   },
   "file_extension": ".py",
   "mimetype": "text/x-python",
   "name": "python",
   "nbconvert_exporter": "python",
   "pygments_lexer": "ipython3",
   "version": "3.7.7"
  }
 },
 "nbformat": 4,
 "nbformat_minor": 4
}
