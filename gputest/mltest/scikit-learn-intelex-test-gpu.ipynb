{
 "cells": [
  {
   "cell_type": "code",
   "execution_count": 1,
   "id": "cacbaaaa",
   "metadata": {},
   "outputs": [],
   "source": [
    "### USE INTEL GPU"
   ]
  },
  {
   "cell_type": "code",
   "execution_count": 2,
   "id": "304638c8",
   "metadata": {},
   "outputs": [],
   "source": [
    "# https://github.com/intel/scikit-learn-intelex\n",
    "# https://github.com/intel/scikit-learn-intelex/tree/master/examples/notebooks"
   ]
  },
  {
   "cell_type": "code",
   "execution_count": 3,
   "id": "ceacb03f",
   "metadata": {},
   "outputs": [],
   "source": [
    "import numpy as np\n",
    "import dpctl"
   ]
  },
  {
   "cell_type": "code",
   "execution_count": 4,
   "id": "68e379c6",
   "metadata": {},
   "outputs": [],
   "source": [
    "from sklearnex import patch_sklearn, config_context"
   ]
  },
  {
   "cell_type": "code",
   "execution_count": 5,
   "id": "6708af09",
   "metadata": {},
   "outputs": [
    {
     "name": "stderr",
     "output_type": "stream",
     "text": [
      "Intel(R) Extension for Scikit-learn* enabled (https://github.com/intel/scikit-learn-intelex)\n"
     ]
    }
   ],
   "source": [
    "patch_sklearn()"
   ]
  },
  {
   "cell_type": "code",
   "execution_count": 6,
   "id": "3c255c62",
   "metadata": {},
   "outputs": [],
   "source": [
    "from sklearn.cluster import DBSCAN"
   ]
  },
  {
   "cell_type": "code",
   "execution_count": 7,
   "id": "73c1b20e",
   "metadata": {},
   "outputs": [],
   "source": [
    "X = np.array([[1., 2.], [2., 2.], [2., 3.],\n",
    "            [8., 7.], [8., 8.], [25., 80.]], dtype=np.float32)"
   ]
  },
  {
   "cell_type": "code",
   "execution_count": null,
   "id": "16cb0eb7",
   "metadata": {},
   "outputs": [],
   "source": [
    "with config_context(target_offload=\"gpu:0\"):\n",
    "    clustering = DBSCAN(eps=3, min_samples=2).fit(X)"
   ]
  },
  {
   "cell_type": "code",
   "execution_count": null,
   "id": "3d025087",
   "metadata": {},
   "outputs": [],
   "source": []
  }
 ],
 "metadata": {
  "kernelspec": {
   "display_name": "Intel-Sklearn",
   "language": "python",
   "name": "intel-sklearn"
  },
  "language_info": {
   "codemirror_mode": {
    "name": "ipython",
    "version": 3
   },
   "file_extension": ".py",
   "mimetype": "text/x-python",
   "name": "python",
   "nbconvert_exporter": "python",
   "pygments_lexer": "ipython3",
   "version": "3.9.16"
  }
 },
 "nbformat": 4,
 "nbformat_minor": 5
}
