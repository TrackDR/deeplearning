{
 "cells": [
  {
   "cell_type": "code",
   "execution_count": 1,
   "id": "6946b983",
   "metadata": {},
   "outputs": [],
   "source": [
    "from __future__ import print_function\n",
    "import torch\n",
    "from torch.utils.collect_env import get_pretty_env_info"
   ]
  },
  {
   "cell_type": "code",
   "execution_count": 2,
   "id": "aef42d3f",
   "metadata": {},
   "outputs": [
    {
     "name": "stdout",
     "output_type": "stream",
     "text": [
      "tensor([[0.3238, 0.4884, 0.2027],\n",
      "        [0.2193, 0.7206, 0.6384],\n",
      "        [0.9775, 0.2389, 0.0123],\n",
      "        [0.9696, 0.3042, 0.0787],\n",
      "        [0.0680, 0.2023, 0.2676]])\n"
     ]
    }
   ],
   "source": [
    "x = torch.rand(5, 3)\n",
    "print(x)"
   ]
  },
  {
   "cell_type": "code",
   "execution_count": 3,
   "id": "a5f5153b",
   "metadata": {},
   "outputs": [
    {
     "name": "stdout",
     "output_type": "stream",
     "text": [
      "Cuda Available: True\n",
      "Cuda version: 10.2\n",
      "Cuda Device Name: NVIDIA GeForce GTX 980 Ti\n",
      "Cuda Device Capability: (5, 2)\n",
      "Current Device: 0\n",
      "_CudaDeviceProperties(name='NVIDIA GeForce GTX 980 Ti', major=5, minor=2, total_memory=6143MB, multi_processor_count=22)\n",
      "PyTorch version: 1.10.1\n",
      "Is debug build: False\n",
      "CUDA used to build PyTorch: 10.2\n",
      "ROCM used to build PyTorch: N/A\n",
      "\n",
      "OS: Microsoft Windows 10 Pro\n",
      "GCC version: Could not collect\n",
      "Clang version: Could not collect\n",
      "CMake version: Could not collect\n",
      "Libc version: N/A\n",
      "\n",
      "Python version: 3.9.12 (main, Apr  4 2022, 05:22:27) [MSC v.1916 64 bit (AMD64)] (64-bit runtime)\n",
      "Python platform: Windows-10-10.0.19043-SP0\n",
      "Is CUDA available: True\n",
      "CUDA runtime version: 11.6.55\n",
      "GPU models and configuration: GPU 0: NVIDIA GeForce GTX 980 Ti\n",
      "Nvidia driver version: 512.77\n",
      "cuDNN version: Could not collect\n",
      "HIP runtime version: N/A\n",
      "MIOpen runtime version: N/A\n",
      "\n",
      "Versions of relevant libraries:\n",
      "[pip3] mypy-extensions==0.4.3\n",
      "[pip3] numpy==1.22.3\n",
      "[pip3] numpydoc==1.2\n",
      "[pip3] torch==1.10.1\n",
      "[pip3] torchaudio==0.10.1\n",
      "[pip3] torchvision==0.11.2\n",
      "[conda] blas                      1.0                         mkl  \n",
      "[conda] cudatoolkit               10.2.89              h74a9793_1  \n",
      "[conda] mkl                       2021.4.0           haa95532_640  \n",
      "[conda] mkl-service               2.4.0            py39h2bbff1b_0  \n",
      "[conda] mkl_fft                   1.3.1            py39h277e83a_0  \n",
      "[conda] mkl_random                1.2.2            py39hf11a4ad_0  \n",
      "[conda] mypy_extensions           0.4.3            py39haa95532_1  \n",
      "[conda] numpy                     1.22.3           py39h7a0a035_0  \n",
      "[conda] numpy-base                1.22.3           py39hca35cd5_0  \n",
      "[conda] numpydoc                  1.2                pyhd3eb1b0_0  \n",
      "[conda] pytorch                   1.10.1          py3.9_cuda10.2_cudnn7_0    pytorch\n",
      "[conda] pytorch-mutex             1.0                        cuda    pytorch\n",
      "[conda] torchaudio                0.10.1               py39_cu102    pytorch\n",
      "[conda] torchvision               0.11.2               py39_cu102    pytorch\n"
     ]
    }
   ],
   "source": [
    "print(\"Cuda Available:\",torch.cuda.is_available())\n",
    "print(\"Cuda version:\",torch.version.cuda)\n",
    "print(\"Cuda Device Name:\", torch.cuda.get_device_name())\n",
    "print(\"Cuda Device Capability:\", torch.cuda.get_device_capability())\n",
    "current_device = torch.cuda.current_device()\n",
    "print(\"Current Device:\",current_device)\n",
    "print(torch.cuda.get_device_properties(current_device))\n",
    "print(get_pretty_env_info())"
   ]
  },
  {
   "cell_type": "code",
   "execution_count": null,
   "id": "e651d232",
   "metadata": {},
   "outputs": [],
   "source": []
  }
 ],
 "metadata": {
  "kernelspec": {
   "display_name": "PyTorch-GPU",
   "language": "python",
   "name": "pyt-gpu"
  },
  "language_info": {
   "codemirror_mode": {
    "name": "ipython",
    "version": 3
   },
   "file_extension": ".py",
   "mimetype": "text/x-python",
   "name": "python",
   "nbconvert_exporter": "python",
   "pygments_lexer": "ipython3",
   "version": "3.9.12"
  }
 },
 "nbformat": 4,
 "nbformat_minor": 5
}
