{
 "cells": [
  {
   "cell_type": "code",
   "execution_count": 1,
   "id": "6946b983",
   "metadata": {},
   "outputs": [],
   "source": [
    "from __future__ import print_function\n",
    "import torch\n",
    "from torch.utils.collect_env import get_pretty_env_info"
   ]
  },
  {
   "cell_type": "code",
   "execution_count": 2,
   "id": "aef42d3f",
   "metadata": {},
   "outputs": [
    {
     "name": "stdout",
     "output_type": "stream",
     "text": [
      "tensor([[0.8396, 0.8098, 0.4934],\n",
      "        [0.0185, 0.3714, 0.7636],\n",
      "        [0.9954, 0.6374, 0.4712],\n",
      "        [0.7983, 0.4654, 0.2224],\n",
      "        [0.4768, 0.6419, 0.3736]])\n"
     ]
    }
   ],
   "source": [
    "x = torch.rand(5, 3)\n",
    "print(x)"
   ]
  },
  {
   "cell_type": "code",
   "execution_count": 3,
   "id": "a5f5153b",
   "metadata": {},
   "outputs": [
    {
     "name": "stdout",
     "output_type": "stream",
     "text": [
      "Cuda Available: True\n",
      "Cuda version: 12.1\n",
      "Cuda Device Name: NVIDIA GeForce GTX 980 Ti\n",
      "Cuda Device Capability: (5, 2)\n",
      "Current Device: 0\n",
      "_CudaDeviceProperties(name='NVIDIA GeForce GTX 980 Ti', major=5, minor=2, total_memory=6143MB, multi_processor_count=22)\n",
      "PyTorch version: 2.1.1\n",
      "Is debug build: False\n",
      "CUDA used to build PyTorch: 12.1\n",
      "ROCM used to build PyTorch: N/A\n",
      "\n",
      "OS: Microsoft Windows 10 Pro\n",
      "GCC version: Could not collect\n",
      "Clang version: Could not collect\n",
      "CMake version: Could not collect\n",
      "Libc version: N/A\n",
      "\n",
      "Python version: 3.9.18 (main, Sep 11 2023, 14:09:26) [MSC v.1916 64 bit (AMD64)] (64-bit runtime)\n",
      "Python platform: Windows-10-10.0.19045-SP0\n",
      "Is CUDA available: True\n",
      "CUDA runtime version: 11.6.55\n",
      "CUDA_MODULE_LOADING set to: LAZY\n",
      "GPU models and configuration: GPU 0: NVIDIA GeForce GTX 980 Ti\n",
      "Nvidia driver version: 546.17\n",
      "cuDNN version: Could not collect\n",
      "HIP runtime version: N/A\n",
      "MIOpen runtime version: N/A\n",
      "Is XNNPACK available: True\n",
      "\n",
      "CPU:\n",
      "Architecture=9\n",
      "CurrentClockSpeed=3501\n",
      "DeviceID=CPU0\n",
      "Family=5856\n",
      "L2CacheSize=1536\n",
      "L2CacheSpeed=\n",
      "Manufacturer=GenuineIntel\n",
      "MaxClockSpeed=3501\n",
      "Name=Intel(R) Core(TM) i7-5930K CPU @ 3.50GHz\n",
      "ProcessorType=3\n",
      "Revision=16130\n",
      "\n",
      "Versions of relevant libraries:\n",
      "[pip3] flake8==6.0.0\n",
      "[pip3] mypy-extensions==1.0.0\n",
      "[pip3] numpy==1.26.2\n",
      "[pip3] numpydoc==1.5.0\n",
      "[pip3] torch==2.1.1\n",
      "[pip3] torchaudio==2.1.1\n",
      "[pip3] torchvision==0.16.1\n",
      "[conda] blas                      1.0                         mkl  \n",
      "[conda] mkl                       2023.1.0         h6b88ed4_46358  \n",
      "[conda] mkl-service               2.4.0            py39h2bbff1b_1  \n",
      "[conda] mkl_fft                   1.3.8            py39h2bbff1b_0  \n",
      "[conda] mkl_random                1.2.4            py39h59b6b97_0  \n",
      "[conda] numpy                     1.26.2           py39h055cbcc_0  \n",
      "[conda] numpy-base                1.26.2           py39h65a83cf_0  \n",
      "[conda] numpydoc                  1.5.0            py39haa95532_0  \n",
      "[conda] pytorch                   2.1.1           py3.9_cuda12.1_cudnn8_0    pytorch\n",
      "[conda] pytorch-cuda              12.1                 hde6ce7c_5    pytorch\n",
      "[conda] pytorch-mutex             1.0                        cuda    pytorch\n",
      "[conda] torchaudio                2.1.1                    pypi_0    pypi\n",
      "[conda] torchvision               0.16.1                   pypi_0    pypi\n"
     ]
    }
   ],
   "source": [
    "print(\"Cuda Available:\",torch.cuda.is_available())\n",
    "print(\"Cuda version:\",torch.version.cuda)\n",
    "print(\"Cuda Device Name:\", torch.cuda.get_device_name())\n",
    "print(\"Cuda Device Capability:\", torch.cuda.get_device_capability())\n",
    "current_device = torch.cuda.current_device()\n",
    "print(\"Current Device:\",current_device)\n",
    "print(torch.cuda.get_device_properties(current_device))\n",
    "print(get_pretty_env_info())"
   ]
  },
  {
   "cell_type": "code",
   "execution_count": null,
   "id": "e651d232",
   "metadata": {},
   "outputs": [],
   "source": []
  }
 ],
 "metadata": {
  "kernelspec": {
   "display_name": "PyTorch-GPU4",
   "language": "python",
   "name": "pyt-gpu4"
  },
  "language_info": {
   "codemirror_mode": {
    "name": "ipython",
    "version": 3
   },
   "file_extension": ".py",
   "mimetype": "text/x-python",
   "name": "python",
   "nbconvert_exporter": "python",
   "pygments_lexer": "ipython3",
   "version": "3.9.18"
  }
 },
 "nbformat": 4,
 "nbformat_minor": 5
}
