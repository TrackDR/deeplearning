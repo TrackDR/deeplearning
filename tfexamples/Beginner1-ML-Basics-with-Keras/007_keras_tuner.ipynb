{
 "cells": [
  {
   "cell_type": "markdown",
   "metadata": {
    "colab_type": "text",
    "id": "Tce3stUlHN0L"
   },
   "source": [
    "##### Copyright 2020 The TensorFlow Authors."
   ]
  },
  {
   "cell_type": "code",
   "execution_count": 1,
   "metadata": {
    "cellView": "form",
    "colab": {},
    "colab_type": "code",
    "id": "tuOe1ymfHZPu"
   },
   "outputs": [],
   "source": [
    "#@title Licensed under the Apache License, Version 2.0 (the \"License\");\n",
    "# you may not use this file except in compliance with the License.\n",
    "# You may obtain a copy of the License at\n",
    "#\n",
    "# https://www.apache.org/licenses/LICENSE-2.0\n",
    "#\n",
    "# Unless required by applicable law or agreed to in writing, software\n",
    "# distributed under the License is distributed on an \"AS IS\" BASIS,\n",
    "# WITHOUT WARRANTIES OR CONDITIONS OF ANY KIND, either express or implied.\n",
    "# See the License for the specific language governing permissions and\n",
    "# limitations under the License."
   ]
  },
  {
   "cell_type": "markdown",
   "metadata": {
    "colab_type": "text",
    "id": "qFdPvlXBOdUN"
   },
   "source": [
    "# Introduction to the Keras Tuner"
   ]
  },
  {
   "cell_type": "markdown",
   "metadata": {
    "colab_type": "text",
    "id": "MfBg1C5NB3X0"
   },
   "source": [
    "<table class=\"tfo-notebook-buttons\" align=\"left\">\n",
    "  <td>\n",
    "    <a target=\"_blank\" href=\"https://www.tensorflow.org/tutorials/keras/keras_tuner\"><img src=\"https://www.tensorflow.org/images/tf_logo_32px.png\" />View on TensorFlow.org</a>\n",
    "  </td>\n",
    "  <td>\n",
    "    <a target=\"_blank\" href=\"https://colab.research.google.com/github/tensorflow/docs/blob/master/site/en/tutorials/keras/keras_tuner.ipynb\"><img src=\"https://www.tensorflow.org/images/colab_logo_32px.png\" />Run in Google Colab</a>\n",
    "  </td>\n",
    "  <td>\n",
    "    <a target=\"_blank\" href=\"https://github.com/tensorflow/docs/blob/master/site/en/tutorials/keras/keras_tuner.ipynb\"><img src=\"https://www.tensorflow.org/images/GitHub-Mark-32px.png\" />View source on GitHub</a>\n",
    "  </td>\n",
    "  <td>\n",
    "    <a href=\"https://storage.googleapis.com/tensorflow_docs/docs/site/en/tutorials/keras/keras_tuner.ipynb\"><img src=\"https://www.tensorflow.org/images/download_logo_32px.png\" />Download notebook</a>\n",
    "  </td>\n",
    "</table>"
   ]
  },
  {
   "cell_type": "markdown",
   "metadata": {
    "colab_type": "text",
    "id": "xHxb-dlhMIzW"
   },
   "source": [
    "## Overview\n",
    "\n",
    "The Keras Tuner is a library that helps you pick the optimal set of hyperparameters for your TensorFlow program. The process of selecting the right set of hyperparameters for your machine learning (ML) application is called *hyperparameter tuning* or *hypertuning*. \n",
    "\n",
    "Hyperparameters are the variables that govern the training process and the topology of an ML model. These variables remain constant over the training process and directly impact the performance of your ML program. Hyperparameters are of two types:\n",
    "1. **Model hyperparameters** which influence model selection such as the number and width of hidden layers\n",
    "2. **Algorithm hyperparameters** which influence the speed and quality of the learning algorithm such as the learning rate for Stochastic Gradient Descent (SGD) and the number of nearest neighbors for a k Nearest Neighbors (KNN) classifier\n",
    "\n",
    "In this tutorial, you will use the Keras Tuner to perform hypertuning for an image classification application."
   ]
  },
  {
   "cell_type": "markdown",
   "metadata": {
    "colab_type": "text",
    "id": "MUXex9ctTuDB"
   },
   "source": [
    "## Setup"
   ]
  },
  {
   "cell_type": "code",
   "execution_count": 1,
   "metadata": {
    "colab": {},
    "colab_type": "code",
    "id": "IqR2PQG4ZaZ0"
   },
   "outputs": [],
   "source": [
    "import tensorflow as tf\n",
    "from tensorflow import keras\n",
    "\n",
    "import IPython"
   ]
  },
  {
   "cell_type": "markdown",
   "metadata": {
    "colab_type": "text",
    "id": "g83Lwsy-Aq2_"
   },
   "source": [
    "Install and import the Keras Tuner."
   ]
  },
  {
   "cell_type": "code",
   "execution_count": 2,
   "metadata": {
    "colab": {},
    "colab_type": "code",
    "id": "_leAIdFKAxAD"
   },
   "outputs": [],
   "source": [
    "#!pip install -q -U keras-tuner\n",
    "import kerastuner as kt"
   ]
  },
  {
   "cell_type": "markdown",
   "metadata": {
    "colab_type": "text",
    "id": "ReV_UXOgCZvx"
   },
   "source": [
    "## Download and prepare the dataset\n",
    "\n",
    "In this tutorial, you will use the Keras Tuner to find the best hyperparameters for a machine learning model that classifies images of clothing from the [Fashion MNIST dataset](https://github.com/zalandoresearch/fashion-mnist). "
   ]
  },
  {
   "cell_type": "markdown",
   "metadata": {
    "colab_type": "text",
    "id": "HljH_ENLEdHa"
   },
   "source": [
    "Load the data."
   ]
  },
  {
   "cell_type": "code",
   "execution_count": 3,
   "metadata": {
    "colab": {},
    "colab_type": "code",
    "id": "OHlHs9Wj_PUM"
   },
   "outputs": [],
   "source": [
    "(img_train, label_train), (img_test, label_test) = keras.datasets.fashion_mnist.load_data()"
   ]
  },
  {
   "cell_type": "code",
   "execution_count": 4,
   "metadata": {
    "colab": {},
    "colab_type": "code",
    "id": "bLVhXs3xrUD0"
   },
   "outputs": [],
   "source": [
    "# Normalize pixel values between 0 and 1\n",
    "img_train = img_train.astype('float32') / 255.0\n",
    "img_test = img_test.astype('float32') / 255.0"
   ]
  },
  {
   "cell_type": "markdown",
   "metadata": {
    "colab_type": "text",
    "id": "K5YEL2H2Ax3e"
   },
   "source": [
    "## Define the model\n",
    "\n",
    "When you build a model for hypertuning, you also define the hyperparameter search space in addition to the model architecture. The model you set up for hypertuning is called a *hypermodel*.\n",
    "\n",
    "You can define a hypermodel through two approaches:\n",
    "\n",
    "* By using a model builder function\n",
    "* By subclassing the `HyperModel` class of the Keras Tuner API\n",
    "\n",
    "You can also use two pre-defined `HyperModel` classes - [HyperXception](https://keras-team.github.io/keras-tuner/documentation/hypermodels/#hyperxception-class) and [HyperResNet](https://keras-team.github.io/keras-tuner/documentation/hypermodels/#hyperresnet-class) for computer vision applications.\n",
    "\n",
    "In this tutorial, you use a model builder function to define the image classification model. The model builder function returns a compiled model and uses hyperparameters you define inline to hypertune the model."
   ]
  },
  {
   "cell_type": "code",
   "execution_count": 5,
   "metadata": {
    "colab": {},
    "colab_type": "code",
    "id": "ZQKodC-jtsva"
   },
   "outputs": [],
   "source": [
    "def model_builder(hp):\n",
    "  model = keras.Sequential()\n",
    "  model.add(keras.layers.Flatten(input_shape=(28, 28)))\n",
    "  \n",
    "  # Tune the number of units in the first Dense layer\n",
    "  # Choose an optimal value between 32-512\n",
    "  hp_units = hp.Int('units', min_value = 32, max_value = 512, step = 32)\n",
    "  model.add(keras.layers.Dense(units = hp_units, activation = 'relu'))\n",
    "  model.add(keras.layers.Dense(10))\n",
    "\n",
    "  # Tune the learning rate for the optimizer \n",
    "  # Choose an optimal value from 0.01, 0.001, or 0.0001\n",
    "  hp_learning_rate = hp.Choice('learning_rate', values = [1e-2, 1e-3, 1e-4]) \n",
    "  \n",
    "  model.compile(optimizer = keras.optimizers.Adam(learning_rate = hp_learning_rate),\n",
    "                loss = keras.losses.SparseCategoricalCrossentropy(from_logits = True), \n",
    "                metrics = ['accuracy'])\n",
    "  \n",
    "  return model"
   ]
  },
  {
   "cell_type": "markdown",
   "metadata": {
    "colab_type": "text",
    "id": "0J1VYw4q3x0b"
   },
   "source": [
    "## Instantiate the tuner and perform hypertuning\n",
    "\n",
    "Instantiate the tuner to perform the hypertuning. The Keras Tuner has four tuners available - `RandomSearch`, `Hyperband`, `BayesianOptimization`, and `Sklearn`. In this tutorial, you use the [Hyperband](https://arxiv.org/pdf/1603.06560.pdf) tuner. \n",
    "\n",
    "To instantiate the Hyperband tuner, you must specify the hypermodel, the `objective` to optimize and the maximum number of epochs to train (`max_epochs`)."
   ]
  },
  {
   "cell_type": "code",
   "execution_count": 6,
   "metadata": {
    "colab": {},
    "colab_type": "code",
    "id": "oichQFly6Y46"
   },
   "outputs": [],
   "source": [
    "tuner = kt.Hyperband(model_builder,\n",
    "                     objective = 'val_accuracy', \n",
    "                     max_epochs = 10,\n",
    "                     factor = 3,\n",
    "                     directory = 'my_dir',\n",
    "                     project_name = 'intro_to_kt')                       "
   ]
  },
  {
   "cell_type": "markdown",
   "metadata": {
    "colab_type": "text",
    "id": "VaIhhdKf9VtI"
   },
   "source": [
    "The Hyperband tuning algorithm uses adaptive resource allocation and early-stopping to quickly converge on a high-performing model. This is done using a sports championship style bracket. The algorithm trains a large number of models for a few epochs and carries forward only the top-performing half of models to the next round. Hyperband determines the number of models to train in a bracket by computing 1 + log<sub>`factor`</sub>(`max_epochs`) and rounding it up to the nearest integer."
   ]
  },
  {
   "cell_type": "markdown",
   "metadata": {
    "colab_type": "text",
    "id": "oTeamrUWOJRb"
   },
   "source": [
    "Before running the hyperparameter search, define a callback to clear the training outputs at the end of every training step."
   ]
  },
  {
   "cell_type": "code",
   "execution_count": 7,
   "metadata": {
    "colab": {},
    "colab_type": "code",
    "id": "Bbr_8QE76PJd"
   },
   "outputs": [],
   "source": [
    "class ClearTrainingOutput(tf.keras.callbacks.Callback):\n",
    "  def on_train_end(*args, **kwargs):\n",
    "    IPython.display.clear_output(wait = True)"
   ]
  },
  {
   "cell_type": "markdown",
   "metadata": {
    "colab_type": "text",
    "id": "UKghEo15Tduy"
   },
   "source": [
    "Run the hyperparameter search. The arguments for the search method are the same as those used for `tf.keras.model.fit` in addition to the callback above."
   ]
  },
  {
   "cell_type": "code",
   "execution_count": 8,
   "metadata": {
    "colab": {},
    "colab_type": "code",
    "id": "dSBQcTHF9cKt"
   },
   "outputs": [
    {
     "data": {
      "text/html": [
       "<span style=\"color:#4527A0\"><h1 style=\"font-size:18px\">Trial complete</h1></span>"
      ],
      "text/plain": [
       "<IPython.core.display.HTML object>"
      ]
     },
     "metadata": {},
     "output_type": "display_data"
    },
    {
     "data": {
      "text/html": [
       "<span style=\"color:#4527A0\"><h1 style=\"font-size:18px\">Trial summary</h1></span>"
      ],
      "text/plain": [
       "<IPython.core.display.HTML object>"
      ]
     },
     "metadata": {},
     "output_type": "display_data"
    },
    {
     "data": {
      "text/html": [
       "<span style=\"color:cyan\"> |-Trial ID: 480a9df16036d980bd4955c12cef21e4</span>"
      ],
      "text/plain": [
       "<IPython.core.display.HTML object>"
      ]
     },
     "metadata": {},
     "output_type": "display_data"
    },
    {
     "data": {
      "text/html": [
       "<span style=\"color:cyan\"> |-Score: 0.8593000173568726</span>"
      ],
      "text/plain": [
       "<IPython.core.display.HTML object>"
      ]
     },
     "metadata": {},
     "output_type": "display_data"
    },
    {
     "data": {
      "text/html": [
       "<span style=\"color:cyan\"> |-Best step: 0</span>"
      ],
      "text/plain": [
       "<IPython.core.display.HTML object>"
      ]
     },
     "metadata": {},
     "output_type": "display_data"
    },
    {
     "data": {
      "text/html": [
       "<span style=\"color:#7E57C2\"><h2 style=\"font-size:16px\">Hyperparameters:</h2></span>"
      ],
      "text/plain": [
       "<IPython.core.display.HTML object>"
      ]
     },
     "metadata": {},
     "output_type": "display_data"
    },
    {
     "data": {
      "text/html": [
       "<span style=\"color:cyan\"> |-learning_rate: 0.01</span>"
      ],
      "text/plain": [
       "<IPython.core.display.HTML object>"
      ]
     },
     "metadata": {},
     "output_type": "display_data"
    },
    {
     "data": {
      "text/html": [
       "<span style=\"color:blue\"> |-tuner/bracket: 0</span>"
      ],
      "text/plain": [
       "<IPython.core.display.HTML object>"
      ]
     },
     "metadata": {},
     "output_type": "display_data"
    },
    {
     "data": {
      "text/html": [
       "<span style=\"color:cyan\"> |-tuner/epochs: 10</span>"
      ],
      "text/plain": [
       "<IPython.core.display.HTML object>"
      ]
     },
     "metadata": {},
     "output_type": "display_data"
    },
    {
     "data": {
      "text/html": [
       "<span style=\"color:blue\"> |-tuner/initial_epoch: 0</span>"
      ],
      "text/plain": [
       "<IPython.core.display.HTML object>"
      ]
     },
     "metadata": {},
     "output_type": "display_data"
    },
    {
     "data": {
      "text/html": [
       "<span style=\"color:cyan\"> |-tuner/round: 0</span>"
      ],
      "text/plain": [
       "<IPython.core.display.HTML object>"
      ]
     },
     "metadata": {},
     "output_type": "display_data"
    },
    {
     "data": {
      "text/html": [
       "<span style=\"color:blue\"> |-units: 352</span>"
      ],
      "text/plain": [
       "<IPython.core.display.HTML object>"
      ]
     },
     "metadata": {},
     "output_type": "display_data"
    },
    {
     "name": "stdout",
     "output_type": "stream",
     "text": [
      "INFO:tensorflow:Oracle triggered exit\n",
      "\n",
      "The hyperparameter search is complete. The optimal number of units in the first densely-connected\n",
      "layer is 96 and the optimal learning rate for the optimizer\n",
      "is 0.001.\n",
      "\n"
     ]
    }
   ],
   "source": [
    "tuner.search(img_train, label_train, epochs = 10, validation_data = (img_test, label_test), callbacks = [ClearTrainingOutput()])\n",
    "\n",
    "# Get the optimal hyperparameters\n",
    "best_hps = tuner.get_best_hyperparameters(num_trials = 1)[0]\n",
    "\n",
    "print(f\"\"\"\n",
    "The hyperparameter search is complete. The optimal number of units in the first densely-connected\n",
    "layer is {best_hps.get('units')} and the optimal learning rate for the optimizer\n",
    "is {best_hps.get('learning_rate')}.\n",
    "\"\"\")"
   ]
  },
  {
   "cell_type": "markdown",
   "metadata": {
    "colab_type": "text",
    "id": "Lak_ylf88xBv"
   },
   "source": [
    "To finish this tutorial, retrain the model with the optimal hyperparameters from the search."
   ]
  },
  {
   "cell_type": "code",
   "execution_count": 9,
   "metadata": {
    "colab": {},
    "colab_type": "code",
    "id": "McO82AXOuxXh"
   },
   "outputs": [
    {
     "name": "stdout",
     "output_type": "stream",
     "text": [
      "Epoch 1/10\n",
      "1875/1875 [==============================] - ETA: 12:29 - loss: 2.5533 - accuracy: 0.0000e+0 - ETA: 23s - loss: 1.7620 - accuracy: 0.3544      - ETA: 13s - loss: 1.5081 - accuracy: 0.454 - ETA: 9s - loss: 1.3610 - accuracy: 0.509 - ETA: 7s - loss: 1.2615 - accuracy: 0.54 - ETA: 6s - loss: 1.1883 - accuracy: 0.57 - ETA: 5s - loss: 1.1318 - accuracy: 0.59 - ETA: 5s - loss: 1.0923 - accuracy: 0.60 - ETA: 5s - loss: 1.0568 - accuracy: 0.62 - ETA: 4s - loss: 1.0354 - accuracy: 0.63 - ETA: 4s - loss: 1.0132 - accuracy: 0.63 - ETA: 4s - loss: 0.9970 - accuracy: 0.64 - ETA: 4s - loss: 0.9785 - accuracy: 0.65 - ETA: 4s - loss: 0.9596 - accuracy: 0.65 - ETA: 4s - loss: 0.9431 - accuracy: 0.66 - ETA: 3s - loss: 0.9283 - accuracy: 0.66 - ETA: 3s - loss: 0.9129 - accuracy: 0.67 - ETA: 3s - loss: 0.9006 - accuracy: 0.67 - ETA: 3s - loss: 0.8874 - accuracy: 0.68 - ETA: 3s - loss: 0.8757 - accuracy: 0.68 - ETA: 3s - loss: 0.8654 - accuracy: 0.69 - ETA: 3s - loss: 0.8547 - accuracy: 0.69 - ETA: 2s - loss: 0.8434 - accuracy: 0.70 - ETA: 2s - loss: 0.8332 - accuracy: 0.70 - ETA: 2s - loss: 0.8243 - accuracy: 0.70 - ETA: 2s - loss: 0.8162 - accuracy: 0.71 - ETA: 2s - loss: 0.8080 - accuracy: 0.71 - ETA: 2s - loss: 0.8007 - accuracy: 0.71 - ETA: 2s - loss: 0.7929 - accuracy: 0.71 - ETA: 2s - loss: 0.7872 - accuracy: 0.72 - ETA: 2s - loss: 0.7807 - accuracy: 0.72 - ETA: 2s - loss: 0.7742 - accuracy: 0.72 - ETA: 2s - loss: 0.7681 - accuracy: 0.72 - ETA: 1s - loss: 0.7624 - accuracy: 0.73 - ETA: 1s - loss: 0.7566 - accuracy: 0.73 - ETA: 1s - loss: 0.7514 - accuracy: 0.73 - ETA: 1s - loss: 0.7464 - accuracy: 0.73 - ETA: 1s - loss: 0.7413 - accuracy: 0.73 - ETA: 1s - loss: 0.7363 - accuracy: 0.73 - ETA: 1s - loss: 0.7318 - accuracy: 0.74 - ETA: 1s - loss: 0.7274 - accuracy: 0.74 - ETA: 1s - loss: 0.7233 - accuracy: 0.74 - ETA: 1s - loss: 0.7193 - accuracy: 0.74 - ETA: 1s - loss: 0.7153 - accuracy: 0.74 - ETA: 1s - loss: 0.7113 - accuracy: 0.74 - ETA: 1s - loss: 0.7072 - accuracy: 0.75 - ETA: 1s - loss: 0.7034 - accuracy: 0.75 - ETA: 0s - loss: 0.6997 - accuracy: 0.75 - ETA: 0s - loss: 0.6962 - accuracy: 0.75 - ETA: 0s - loss: 0.6928 - accuracy: 0.75 - ETA: 0s - loss: 0.6896 - accuracy: 0.75 - ETA: 0s - loss: 0.6864 - accuracy: 0.75 - ETA: 0s - loss: 0.6834 - accuracy: 0.75 - ETA: 0s - loss: 0.6804 - accuracy: 0.76 - ETA: 0s - loss: 0.6773 - accuracy: 0.76 - ETA: 0s - loss: 0.6744 - accuracy: 0.76 - ETA: 0s - loss: 0.6719 - accuracy: 0.76 - ETA: 0s - loss: 0.6693 - accuracy: 0.76 - ETA: 0s - loss: 0.6674 - accuracy: 0.76 - ETA: 0s - loss: 0.6653 - accuracy: 0.76 - ETA: 0s - loss: 0.6631 - accuracy: 0.76 - ETA: 0s - loss: 0.6606 - accuracy: 0.76 - ETA: 0s - loss: 0.6583 - accuracy: 0.76 - ETA: 0s - loss: 0.6557 - accuracy: 0.76 - 4s 2ms/step - loss: 0.6553 - accuracy: 0.7690 - val_loss: 0.4444 - val_accuracy: 0.8491\n",
      "Epoch 2/10\n",
      "1875/1875 [==============================] - ETA: 7s - loss: 0.6406 - accuracy: 0.87 - ETA: 3s - loss: 0.4316 - accuracy: 0.85 - ETA: 3s - loss: 0.4327 - accuracy: 0.85 - ETA: 3s - loss: 0.4305 - accuracy: 0.85 - ETA: 2s - loss: 0.4272 - accuracy: 0.85 - ETA: 2s - loss: 0.4224 - accuracy: 0.85 - ETA: 2s - loss: 0.4177 - accuracy: 0.85 - ETA: 2s - loss: 0.4150 - accuracy: 0.85 - ETA: 2s - loss: 0.4124 - accuracy: 0.85 - ETA: 2s - loss: 0.4104 - accuracy: 0.85 - ETA: 2s - loss: 0.4090 - accuracy: 0.85 - ETA: 2s - loss: 0.4081 - accuracy: 0.85 - ETA: 2s - loss: 0.4076 - accuracy: 0.85 - ETA: 2s - loss: 0.4071 - accuracy: 0.85 - ETA: 2s - loss: 0.4065 - accuracy: 0.85 - ETA: 2s - loss: 0.4060 - accuracy: 0.85 - ETA: 2s - loss: 0.4055 - accuracy: 0.85 - ETA: 2s - loss: 0.4051 - accuracy: 0.85 - ETA: 2s - loss: 0.4047 - accuracy: 0.85 - ETA: 2s - loss: 0.4044 - accuracy: 0.85 - ETA: 1s - loss: 0.4041 - accuracy: 0.85 - ETA: 1s - loss: 0.4039 - accuracy: 0.85 - ETA: 1s - loss: 0.4037 - accuracy: 0.85 - ETA: 1s - loss: 0.4036 - accuracy: 0.85 - ETA: 1s - loss: 0.4034 - accuracy: 0.85 - ETA: 1s - loss: 0.4032 - accuracy: 0.85 - ETA: 1s - loss: 0.4030 - accuracy: 0.85 - ETA: 1s - loss: 0.4029 - accuracy: 0.85 - ETA: 1s - loss: 0.4027 - accuracy: 0.85 - ETA: 1s - loss: 0.4026 - accuracy: 0.85 - ETA: 1s - loss: 0.4024 - accuracy: 0.85 - ETA: 1s - loss: 0.4022 - accuracy: 0.85 - ETA: 1s - loss: 0.4021 - accuracy: 0.85 - ETA: 1s - loss: 0.4019 - accuracy: 0.85 - ETA: 1s - loss: 0.4018 - accuracy: 0.85 - ETA: 1s - loss: 0.4017 - accuracy: 0.85 - ETA: 1s - loss: 0.4016 - accuracy: 0.85 - ETA: 1s - loss: 0.4014 - accuracy: 0.85 - ETA: 1s - loss: 0.4013 - accuracy: 0.85 - ETA: 1s - loss: 0.4011 - accuracy: 0.85 - ETA: 1s - loss: 0.4010 - accuracy: 0.85 - ETA: 0s - loss: 0.4008 - accuracy: 0.85 - ETA: 0s - loss: 0.4007 - accuracy: 0.85 - ETA: 0s - loss: 0.4005 - accuracy: 0.85 - ETA: 0s - loss: 0.4003 - accuracy: 0.85 - ETA: 0s - loss: 0.4002 - accuracy: 0.85 - ETA: 0s - loss: 0.4000 - accuracy: 0.85 - ETA: 0s - loss: 0.3999 - accuracy: 0.85 - ETA: 0s - loss: 0.3998 - accuracy: 0.85 - ETA: 0s - loss: 0.3996 - accuracy: 0.85 - ETA: 0s - loss: 0.3995 - accuracy: 0.85 - ETA: 0s - loss: 0.3994 - accuracy: 0.85 - ETA: 0s - loss: 0.3992 - accuracy: 0.85 - ETA: 0s - loss: 0.3991 - accuracy: 0.85 - ETA: 0s - loss: 0.3989 - accuracy: 0.85 - ETA: 0s - loss: 0.3988 - accuracy: 0.85 - ETA: 0s - loss: 0.3987 - accuracy: 0.85 - ETA: 0s - loss: 0.3985 - accuracy: 0.85 - ETA: 0s - loss: 0.3983 - accuracy: 0.85 - ETA: 0s - loss: 0.3982 - accuracy: 0.85 - ETA: 0s - loss: 0.3980 - accuracy: 0.85 - 4s 2ms/step - loss: 0.3980 - accuracy: 0.8585 - val_loss: 0.3988 - val_accuracy: 0.8551\n",
      "Epoch 3/10\n"
     ]
    },
    {
     "name": "stdout",
     "output_type": "stream",
     "text": [
      "1875/1875 [==============================] - ETA: 7s - loss: 0.2720 - accuracy: 0.96 - ETA: 2s - loss: 0.3807 - accuracy: 0.87 - ETA: 2s - loss: 0.3694 - accuracy: 0.87 - ETA: 2s - loss: 0.3619 - accuracy: 0.87 - ETA: 2s - loss: 0.3581 - accuracy: 0.87 - ETA: 2s - loss: 0.3560 - accuracy: 0.87 - ETA: 2s - loss: 0.3556 - accuracy: 0.87 - ETA: 2s - loss: 0.3555 - accuracy: 0.87 - ETA: 2s - loss: 0.3552 - accuracy: 0.86 - ETA: 2s - loss: 0.3552 - accuracy: 0.86 - ETA: 2s - loss: 0.3551 - accuracy: 0.86 - ETA: 2s - loss: 0.3548 - accuracy: 0.86 - ETA: 2s - loss: 0.3545 - accuracy: 0.86 - ETA: 2s - loss: 0.3541 - accuracy: 0.86 - ETA: 2s - loss: 0.3536 - accuracy: 0.87 - ETA: 2s - loss: 0.3531 - accuracy: 0.87 - ETA: 2s - loss: 0.3528 - accuracy: 0.87 - ETA: 2s - loss: 0.3525 - accuracy: 0.87 - ETA: 2s - loss: 0.3522 - accuracy: 0.87 - ETA: 2s - loss: 0.3519 - accuracy: 0.87 - ETA: 2s - loss: 0.3517 - accuracy: 0.87 - ETA: 2s - loss: 0.3515 - accuracy: 0.87 - ETA: 2s - loss: 0.3513 - accuracy: 0.87 - ETA: 2s - loss: 0.3511 - accuracy: 0.87 - ETA: 1s - loss: 0.3509 - accuracy: 0.87 - ETA: 1s - loss: 0.3507 - accuracy: 0.87 - ETA: 1s - loss: 0.3506 - accuracy: 0.87 - ETA: 1s - loss: 0.3505 - accuracy: 0.87 - ETA: 1s - loss: 0.3504 - accuracy: 0.87 - ETA: 1s - loss: 0.3504 - accuracy: 0.87 - ETA: 1s - loss: 0.3504 - accuracy: 0.87 - ETA: 1s - loss: 0.3504 - accuracy: 0.87 - ETA: 1s - loss: 0.3503 - accuracy: 0.87 - ETA: 1s - loss: 0.3503 - accuracy: 0.87 - ETA: 1s - loss: 0.3502 - accuracy: 0.87 - ETA: 1s - loss: 0.3502 - accuracy: 0.87 - ETA: 1s - loss: 0.3502 - accuracy: 0.87 - ETA: 1s - loss: 0.3502 - accuracy: 0.87 - ETA: 1s - loss: 0.3501 - accuracy: 0.87 - ETA: 1s - loss: 0.3501 - accuracy: 0.87 - ETA: 1s - loss: 0.3501 - accuracy: 0.87 - ETA: 1s - loss: 0.3501 - accuracy: 0.87 - ETA: 1s - loss: 0.3500 - accuracy: 0.87 - ETA: 0s - loss: 0.3500 - accuracy: 0.87 - ETA: 0s - loss: 0.3499 - accuracy: 0.87 - ETA: 0s - loss: 0.3499 - accuracy: 0.87 - ETA: 0s - loss: 0.3498 - accuracy: 0.87 - ETA: 0s - loss: 0.3498 - accuracy: 0.87 - ETA: 0s - loss: 0.3497 - accuracy: 0.87 - ETA: 0s - loss: 0.3496 - accuracy: 0.87 - ETA: 0s - loss: 0.3496 - accuracy: 0.87 - ETA: 0s - loss: 0.3495 - accuracy: 0.87 - ETA: 0s - loss: 0.3494 - accuracy: 0.87 - ETA: 0s - loss: 0.3493 - accuracy: 0.87 - ETA: 0s - loss: 0.3493 - accuracy: 0.87 - ETA: 0s - loss: 0.3492 - accuracy: 0.87 - ETA: 0s - loss: 0.3491 - accuracy: 0.87 - ETA: 0s - loss: 0.3490 - accuracy: 0.87 - ETA: 0s - loss: 0.3490 - accuracy: 0.87 - ETA: 0s - loss: 0.3489 - accuracy: 0.87 - ETA: 0s - loss: 0.3488 - accuracy: 0.87 - ETA: 0s - loss: 0.3488 - accuracy: 0.87 - 4s 2ms/step - loss: 0.3487 - accuracy: 0.8737 - val_loss: 0.3786 - val_accuracy: 0.8619\n",
      "Epoch 4/10\n",
      "1875/1875 [==============================] - ETA: 7s - loss: 0.3337 - accuracy: 0.93 - ETA: 3s - loss: 0.3014 - accuracy: 0.89 - ETA: 3s - loss: 0.3112 - accuracy: 0.89 - ETA: 3s - loss: 0.3165 - accuracy: 0.88 - ETA: 2s - loss: 0.3182 - accuracy: 0.88 - ETA: 2s - loss: 0.3195 - accuracy: 0.88 - ETA: 2s - loss: 0.3213 - accuracy: 0.88 - ETA: 2s - loss: 0.3228 - accuracy: 0.88 - ETA: 2s - loss: 0.3239 - accuracy: 0.88 - ETA: 2s - loss: 0.3247 - accuracy: 0.88 - ETA: 2s - loss: 0.3254 - accuracy: 0.88 - ETA: 2s - loss: 0.3261 - accuracy: 0.88 - ETA: 2s - loss: 0.3267 - accuracy: 0.88 - ETA: 2s - loss: 0.3274 - accuracy: 0.88 - ETA: 2s - loss: 0.3281 - accuracy: 0.88 - ETA: 2s - loss: 0.3287 - accuracy: 0.88 - ETA: 2s - loss: 0.3292 - accuracy: 0.88 - ETA: 2s - loss: 0.3295 - accuracy: 0.88 - ETA: 2s - loss: 0.3297 - accuracy: 0.88 - ETA: 2s - loss: 0.3298 - accuracy: 0.88 - ETA: 2s - loss: 0.3300 - accuracy: 0.88 - ETA: 2s - loss: 0.3301 - accuracy: 0.88 - ETA: 2s - loss: 0.3301 - accuracy: 0.88 - ETA: 1s - loss: 0.3301 - accuracy: 0.88 - ETA: 1s - loss: 0.3300 - accuracy: 0.88 - ETA: 1s - loss: 0.3299 - accuracy: 0.88 - ETA: 1s - loss: 0.3298 - accuracy: 0.88 - ETA: 1s - loss: 0.3297 - accuracy: 0.88 - ETA: 1s - loss: 0.3296 - accuracy: 0.88 - ETA: 1s - loss: 0.3294 - accuracy: 0.88 - ETA: 1s - loss: 0.3292 - accuracy: 0.88 - ETA: 1s - loss: 0.3291 - accuracy: 0.88 - ETA: 1s - loss: 0.3289 - accuracy: 0.88 - ETA: 1s - loss: 0.3287 - accuracy: 0.88 - ETA: 1s - loss: 0.3285 - accuracy: 0.88 - ETA: 1s - loss: 0.3284 - accuracy: 0.88 - ETA: 1s - loss: 0.3282 - accuracy: 0.88 - ETA: 1s - loss: 0.3281 - accuracy: 0.88 - ETA: 1s - loss: 0.3280 - accuracy: 0.88 - ETA: 1s - loss: 0.3278 - accuracy: 0.88 - ETA: 0s - loss: 0.3277 - accuracy: 0.88 - ETA: 0s - loss: 0.3275 - accuracy: 0.88 - ETA: 0s - loss: 0.3274 - accuracy: 0.88 - ETA: 0s - loss: 0.3272 - accuracy: 0.88 - ETA: 0s - loss: 0.3271 - accuracy: 0.88 - ETA: 0s - loss: 0.3269 - accuracy: 0.88 - ETA: 0s - loss: 0.3268 - accuracy: 0.88 - ETA: 0s - loss: 0.3267 - accuracy: 0.88 - ETA: 0s - loss: 0.3266 - accuracy: 0.88 - ETA: 0s - loss: 0.3265 - accuracy: 0.88 - ETA: 0s - loss: 0.3264 - accuracy: 0.88 - ETA: 0s - loss: 0.3263 - accuracy: 0.88 - ETA: 0s - loss: 0.3263 - accuracy: 0.88 - ETA: 0s - loss: 0.3262 - accuracy: 0.88 - ETA: 0s - loss: 0.3261 - accuracy: 0.88 - ETA: 0s - loss: 0.3260 - accuracy: 0.88 - ETA: 0s - loss: 0.3260 - accuracy: 0.88 - ETA: 0s - loss: 0.3259 - accuracy: 0.88 - ETA: 0s - loss: 0.3259 - accuracy: 0.88 - 3s 2ms/step - loss: 0.3258 - accuracy: 0.8822 - val_loss: 0.3597 - val_accuracy: 0.8684\n",
      "Epoch 5/10\n",
      "1875/1875 [==============================] - ETA: 9s - loss: 0.4322 - accuracy: 0.84 - ETA: 3s - loss: 0.3571 - accuracy: 0.88 - ETA: 3s - loss: 0.3373 - accuracy: 0.88 - ETA: 3s - loss: 0.3310 - accuracy: 0.88 - ETA: 3s - loss: 0.3281 - accuracy: 0.88 - ETA: 2s - loss: 0.3263 - accuracy: 0.88 - ETA: 2s - loss: 0.3252 - accuracy: 0.88 - ETA: 2s - loss: 0.3241 - accuracy: 0.88 - ETA: 2s - loss: 0.3235 - accuracy: 0.88 - ETA: 2s - loss: 0.3229 - accuracy: 0.88 - ETA: 2s - loss: 0.3225 - accuracy: 0.88 - ETA: 2s - loss: 0.3223 - accuracy: 0.88 - ETA: 2s - loss: 0.3221 - accuracy: 0.88 - ETA: 2s - loss: 0.3217 - accuracy: 0.88 - ETA: 2s - loss: 0.3213 - accuracy: 0.88 - ETA: 2s - loss: 0.3209 - accuracy: 0.88 - ETA: 2s - loss: 0.3204 - accuracy: 0.88 - ETA: 2s - loss: 0.3200 - accuracy: 0.88 - ETA: 2s - loss: 0.3196 - accuracy: 0.88 - ETA: 2s - loss: 0.3190 - accuracy: 0.88 - ETA: 2s - loss: 0.3186 - accuracy: 0.88 - ETA: 2s - loss: 0.3183 - accuracy: 0.88 - ETA: 1s - loss: 0.3179 - accuracy: 0.88 - ETA: 1s - loss: 0.3175 - accuracy: 0.88 - ETA: 1s - loss: 0.3170 - accuracy: 0.88 - ETA: 1s - loss: 0.3167 - accuracy: 0.88 - ETA: 1s - loss: 0.3162 - accuracy: 0.88 - ETA: 1s - loss: 0.3158 - accuracy: 0.88 - ETA: 1s - loss: 0.3154 - accuracy: 0.88 - ETA: 1s - loss: 0.3151 - accuracy: 0.88 - ETA: 1s - loss: 0.3148 - accuracy: 0.88 - ETA: 1s - loss: 0.3145 - accuracy: 0.88 - ETA: 1s - loss: 0.3142 - accuracy: 0.88 - ETA: 1s - loss: 0.3139 - accuracy: 0.88 - ETA: 1s - loss: 0.3136 - accuracy: 0.88 - ETA: 1s - loss: 0.3133 - accuracy: 0.88 - ETA: 1s - loss: 0.3131 - accuracy: 0.88 - ETA: 1s - loss: 0.3128 - accuracy: 0.88 - ETA: 1s - loss: 0.3126 - accuracy: 0.88 - ETA: 0s - loss: 0.3124 - accuracy: 0.88 - ETA: 0s - loss: 0.3122 - accuracy: 0.88 - ETA: 0s - loss: 0.3120 - accuracy: 0.88 - ETA: 0s - loss: 0.3118 - accuracy: 0.88 - ETA: 0s - loss: 0.3116 - accuracy: 0.88 - ETA: 0s - loss: 0.3114 - accuracy: 0.88 - ETA: 0s - loss: 0.3113 - accuracy: 0.88 - ETA: 0s - loss: 0.3111 - accuracy: 0.88 - ETA: 0s - loss: 0.3110 - accuracy: 0.88 - ETA: 0s - loss: 0.3108 - accuracy: 0.88 - ETA: 0s - loss: 0.3107 - accuracy: 0.88 - ETA: 0s - loss: 0.3106 - accuracy: 0.88 - ETA: 0s - loss: 0.3105 - accuracy: 0.88 - ETA: 0s - loss: 0.3104 - accuracy: 0.88 - ETA: 0s - loss: 0.3102 - accuracy: 0.88 - ETA: 0s - loss: 0.3101 - accuracy: 0.88 - ETA: 0s - loss: 0.3100 - accuracy: 0.88 - ETA: 0s - loss: 0.3099 - accuracy: 0.88 - ETA: 0s - loss: 0.3098 - accuracy: 0.88 - 3s 2ms/step - loss: 0.3097 - accuracy: 0.8861 - val_loss: 0.3425 - val_accuracy: 0.8785\n",
      "Epoch 6/10\n"
     ]
    },
    {
     "name": "stdout",
     "output_type": "stream",
     "text": [
      "1875/1875 [==============================] - ETA: 7s - loss: 0.1808 - accuracy: 0.90 - ETA: 3s - loss: 0.2888 - accuracy: 0.90 - ETA: 2s - loss: 0.2796 - accuracy: 0.90 - ETA: 2s - loss: 0.2762 - accuracy: 0.90 - ETA: 2s - loss: 0.2763 - accuracy: 0.90 - ETA: 2s - loss: 0.2775 - accuracy: 0.90 - ETA: 2s - loss: 0.2790 - accuracy: 0.89 - ETA: 2s - loss: 0.2808 - accuracy: 0.89 - ETA: 2s - loss: 0.2822 - accuracy: 0.89 - ETA: 2s - loss: 0.2832 - accuracy: 0.89 - ETA: 2s - loss: 0.2837 - accuracy: 0.89 - ETA: 2s - loss: 0.2841 - accuracy: 0.89 - ETA: 2s - loss: 0.2844 - accuracy: 0.89 - ETA: 2s - loss: 0.2845 - accuracy: 0.89 - ETA: 2s - loss: 0.2844 - accuracy: 0.89 - ETA: 1s - loss: 0.2843 - accuracy: 0.89 - ETA: 1s - loss: 0.2841 - accuracy: 0.89 - ETA: 1s - loss: 0.2838 - accuracy: 0.89 - ETA: 1s - loss: 0.2836 - accuracy: 0.89 - ETA: 1s - loss: 0.2833 - accuracy: 0.89 - ETA: 1s - loss: 0.2831 - accuracy: 0.89 - ETA: 1s - loss: 0.2829 - accuracy: 0.89 - ETA: 1s - loss: 0.2828 - accuracy: 0.89 - ETA: 1s - loss: 0.2826 - accuracy: 0.89 - ETA: 1s - loss: 0.2825 - accuracy: 0.89 - ETA: 1s - loss: 0.2824 - accuracy: 0.89 - ETA: 1s - loss: 0.2824 - accuracy: 0.89 - ETA: 1s - loss: 0.2823 - accuracy: 0.89 - ETA: 1s - loss: 0.2822 - accuracy: 0.89 - ETA: 1s - loss: 0.2821 - accuracy: 0.89 - ETA: 1s - loss: 0.2820 - accuracy: 0.89 - ETA: 1s - loss: 0.2820 - accuracy: 0.89 - ETA: 1s - loss: 0.2819 - accuracy: 0.89 - ETA: 1s - loss: 0.2819 - accuracy: 0.89 - ETA: 0s - loss: 0.2819 - accuracy: 0.89 - ETA: 0s - loss: 0.2820 - accuracy: 0.89 - ETA: 0s - loss: 0.2820 - accuracy: 0.89 - ETA: 0s - loss: 0.2820 - accuracy: 0.89 - ETA: 0s - loss: 0.2821 - accuracy: 0.89 - ETA: 0s - loss: 0.2822 - accuracy: 0.89 - ETA: 0s - loss: 0.2823 - accuracy: 0.89 - ETA: 0s - loss: 0.2824 - accuracy: 0.89 - ETA: 0s - loss: 0.2825 - accuracy: 0.89 - ETA: 0s - loss: 0.2826 - accuracy: 0.89 - ETA: 0s - loss: 0.2826 - accuracy: 0.89 - ETA: 0s - loss: 0.2827 - accuracy: 0.89 - ETA: 0s - loss: 0.2828 - accuracy: 0.89 - ETA: 0s - loss: 0.2829 - accuracy: 0.89 - ETA: 0s - loss: 0.2830 - accuracy: 0.89 - ETA: 0s - loss: 0.2831 - accuracy: 0.89 - ETA: 0s - loss: 0.2832 - accuracy: 0.89 - ETA: 0s - loss: 0.2833 - accuracy: 0.89 - ETA: 0s - loss: 0.2834 - accuracy: 0.89 - ETA: 0s - loss: 0.2835 - accuracy: 0.89 - ETA: 0s - loss: 0.2836 - accuracy: 0.89 - 3s 2ms/step - loss: 0.2836 - accuracy: 0.8964 - val_loss: 0.3690 - val_accuracy: 0.8694\n",
      "Epoch 7/10\n",
      "1875/1875 [==============================] - ETA: 5s - loss: 0.0689 - accuracy: 0.96 - ETA: 2s - loss: 0.2775 - accuracy: 0.89 - ETA: 2s - loss: 0.2812 - accuracy: 0.89 - ETA: 2s - loss: 0.2840 - accuracy: 0.89 - ETA: 2s - loss: 0.2858 - accuracy: 0.89 - ETA: 2s - loss: 0.2866 - accuracy: 0.89 - ETA: 2s - loss: 0.2870 - accuracy: 0.89 - ETA: 2s - loss: 0.2864 - accuracy: 0.89 - ETA: 2s - loss: 0.2855 - accuracy: 0.89 - ETA: 2s - loss: 0.2843 - accuracy: 0.89 - ETA: 2s - loss: 0.2832 - accuracy: 0.89 - ETA: 2s - loss: 0.2824 - accuracy: 0.89 - ETA: 2s - loss: 0.2818 - accuracy: 0.89 - ETA: 2s - loss: 0.2813 - accuracy: 0.89 - ETA: 1s - loss: 0.2808 - accuracy: 0.89 - ETA: 1s - loss: 0.2804 - accuracy: 0.89 - ETA: 1s - loss: 0.2800 - accuracy: 0.89 - ETA: 1s - loss: 0.2797 - accuracy: 0.89 - ETA: 1s - loss: 0.2795 - accuracy: 0.89 - ETA: 1s - loss: 0.2794 - accuracy: 0.89 - ETA: 1s - loss: 0.2793 - accuracy: 0.89 - ETA: 1s - loss: 0.2792 - accuracy: 0.89 - ETA: 1s - loss: 0.2792 - accuracy: 0.89 - ETA: 1s - loss: 0.2791 - accuracy: 0.89 - ETA: 1s - loss: 0.2790 - accuracy: 0.89 - ETA: 1s - loss: 0.2790 - accuracy: 0.89 - ETA: 1s - loss: 0.2789 - accuracy: 0.89 - ETA: 1s - loss: 0.2788 - accuracy: 0.89 - ETA: 1s - loss: 0.2787 - accuracy: 0.89 - ETA: 1s - loss: 0.2786 - accuracy: 0.89 - ETA: 1s - loss: 0.2785 - accuracy: 0.89 - ETA: 1s - loss: 0.2784 - accuracy: 0.89 - ETA: 1s - loss: 0.2783 - accuracy: 0.89 - ETA: 1s - loss: 0.2782 - accuracy: 0.89 - ETA: 1s - loss: 0.2781 - accuracy: 0.89 - ETA: 0s - loss: 0.2780 - accuracy: 0.89 - ETA: 0s - loss: 0.2779 - accuracy: 0.89 - ETA: 0s - loss: 0.2779 - accuracy: 0.89 - ETA: 0s - loss: 0.2778 - accuracy: 0.89 - ETA: 0s - loss: 0.2778 - accuracy: 0.89 - ETA: 0s - loss: 0.2777 - accuracy: 0.89 - ETA: 0s - loss: 0.2776 - accuracy: 0.89 - ETA: 0s - loss: 0.2776 - accuracy: 0.89 - ETA: 0s - loss: 0.2775 - accuracy: 0.89 - ETA: 0s - loss: 0.2774 - accuracy: 0.89 - ETA: 0s - loss: 0.2774 - accuracy: 0.89 - ETA: 0s - loss: 0.2773 - accuracy: 0.89 - ETA: 0s - loss: 0.2772 - accuracy: 0.89 - ETA: 0s - loss: 0.2772 - accuracy: 0.89 - ETA: 0s - loss: 0.2771 - accuracy: 0.89 - ETA: 0s - loss: 0.2770 - accuracy: 0.89 - ETA: 0s - loss: 0.2770 - accuracy: 0.89 - ETA: 0s - loss: 0.2769 - accuracy: 0.89 - ETA: 0s - loss: 0.2768 - accuracy: 0.89 - ETA: 0s - loss: 0.2768 - accuracy: 0.89 - 3s 2ms/step - loss: 0.2767 - accuracy: 0.8987 - val_loss: 0.3480 - val_accuracy: 0.8750\n",
      "Epoch 8/10\n",
      "1875/1875 [==============================] - ETA: 5s - loss: 0.1086 - accuracy: 0.96 - ETA: 2s - loss: 0.2361 - accuracy: 0.91 - ETA: 2s - loss: 0.2533 - accuracy: 0.90 - ETA: 2s - loss: 0.2569 - accuracy: 0.90 - ETA: 2s - loss: 0.2588 - accuracy: 0.90 - ETA: 2s - loss: 0.2603 - accuracy: 0.90 - ETA: 2s - loss: 0.2610 - accuracy: 0.90 - ETA: 2s - loss: 0.2615 - accuracy: 0.90 - ETA: 2s - loss: 0.2622 - accuracy: 0.90 - ETA: 2s - loss: 0.2628 - accuracy: 0.90 - ETA: 2s - loss: 0.2633 - accuracy: 0.90 - ETA: 2s - loss: 0.2638 - accuracy: 0.90 - ETA: 2s - loss: 0.2640 - accuracy: 0.90 - ETA: 2s - loss: 0.2642 - accuracy: 0.90 - ETA: 1s - loss: 0.2642 - accuracy: 0.90 - ETA: 1s - loss: 0.2642 - accuracy: 0.90 - ETA: 1s - loss: 0.2640 - accuracy: 0.90 - ETA: 1s - loss: 0.2637 - accuracy: 0.90 - ETA: 1s - loss: 0.2635 - accuracy: 0.90 - ETA: 1s - loss: 0.2634 - accuracy: 0.90 - ETA: 1s - loss: 0.2632 - accuracy: 0.90 - ETA: 1s - loss: 0.2631 - accuracy: 0.90 - ETA: 1s - loss: 0.2630 - accuracy: 0.90 - ETA: 1s - loss: 0.2629 - accuracy: 0.90 - ETA: 1s - loss: 0.2628 - accuracy: 0.90 - ETA: 1s - loss: 0.2628 - accuracy: 0.90 - ETA: 1s - loss: 0.2628 - accuracy: 0.90 - ETA: 1s - loss: 0.2628 - accuracy: 0.90 - ETA: 1s - loss: 0.2628 - accuracy: 0.90 - ETA: 1s - loss: 0.2628 - accuracy: 0.90 - ETA: 1s - loss: 0.2628 - accuracy: 0.90 - ETA: 1s - loss: 0.2628 - accuracy: 0.90 - ETA: 1s - loss: 0.2628 - accuracy: 0.90 - ETA: 1s - loss: 0.2628 - accuracy: 0.90 - ETA: 1s - loss: 0.2628 - accuracy: 0.90 - ETA: 1s - loss: 0.2627 - accuracy: 0.90 - ETA: 0s - loss: 0.2627 - accuracy: 0.90 - ETA: 0s - loss: 0.2627 - accuracy: 0.90 - ETA: 0s - loss: 0.2627 - accuracy: 0.90 - ETA: 0s - loss: 0.2627 - accuracy: 0.90 - ETA: 0s - loss: 0.2627 - accuracy: 0.90 - ETA: 0s - loss: 0.2627 - accuracy: 0.90 - ETA: 0s - loss: 0.2627 - accuracy: 0.90 - ETA: 0s - loss: 0.2627 - accuracy: 0.90 - ETA: 0s - loss: 0.2627 - accuracy: 0.90 - ETA: 0s - loss: 0.2627 - accuracy: 0.90 - ETA: 0s - loss: 0.2627 - accuracy: 0.90 - ETA: 0s - loss: 0.2627 - accuracy: 0.90 - ETA: 0s - loss: 0.2627 - accuracy: 0.90 - ETA: 0s - loss: 0.2627 - accuracy: 0.90 - ETA: 0s - loss: 0.2627 - accuracy: 0.90 - ETA: 0s - loss: 0.2627 - accuracy: 0.90 - ETA: 0s - loss: 0.2627 - accuracy: 0.90 - ETA: 0s - loss: 0.2627 - accuracy: 0.90 - ETA: 0s - loss: 0.2627 - accuracy: 0.90 - ETA: 0s - loss: 0.2628 - accuracy: 0.90 - 3s 2ms/step - loss: 0.2628 - accuracy: 0.9036 - val_loss: 0.3588 - val_accuracy: 0.8669\n",
      "Epoch 9/10\n"
     ]
    },
    {
     "name": "stdout",
     "output_type": "stream",
     "text": [
      "1875/1875 [==============================] - ETA: 5s - loss: 0.1011 - accuracy: 0.96 - ETA: 2s - loss: 0.2532 - accuracy: 0.89 - ETA: 2s - loss: 0.2583 - accuracy: 0.89 - ETA: 2s - loss: 0.2603 - accuracy: 0.89 - ETA: 2s - loss: 0.2627 - accuracy: 0.89 - ETA: 2s - loss: 0.2649 - accuracy: 0.90 - ETA: 2s - loss: 0.2650 - accuracy: 0.90 - ETA: 2s - loss: 0.2647 - accuracy: 0.90 - ETA: 2s - loss: 0.2644 - accuracy: 0.90 - ETA: 2s - loss: 0.2640 - accuracy: 0.90 - ETA: 2s - loss: 0.2632 - accuracy: 0.90 - ETA: 2s - loss: 0.2626 - accuracy: 0.90 - ETA: 2s - loss: 0.2617 - accuracy: 0.90 - ETA: 2s - loss: 0.2607 - accuracy: 0.90 - ETA: 2s - loss: 0.2598 - accuracy: 0.90 - ETA: 2s - loss: 0.2590 - accuracy: 0.90 - ETA: 2s - loss: 0.2585 - accuracy: 0.90 - ETA: 2s - loss: 0.2582 - accuracy: 0.90 - ETA: 1s - loss: 0.2578 - accuracy: 0.90 - ETA: 1s - loss: 0.2576 - accuracy: 0.90 - ETA: 1s - loss: 0.2575 - accuracy: 0.90 - ETA: 1s - loss: 0.2574 - accuracy: 0.90 - ETA: 1s - loss: 0.2572 - accuracy: 0.90 - ETA: 1s - loss: 0.2571 - accuracy: 0.90 - ETA: 1s - loss: 0.2570 - accuracy: 0.90 - ETA: 1s - loss: 0.2569 - accuracy: 0.90 - ETA: 1s - loss: 0.2568 - accuracy: 0.90 - ETA: 1s - loss: 0.2567 - accuracy: 0.90 - ETA: 1s - loss: 0.2566 - accuracy: 0.90 - ETA: 1s - loss: 0.2566 - accuracy: 0.90 - ETA: 1s - loss: 0.2565 - accuracy: 0.90 - ETA: 1s - loss: 0.2564 - accuracy: 0.90 - ETA: 1s - loss: 0.2563 - accuracy: 0.90 - ETA: 1s - loss: 0.2562 - accuracy: 0.90 - ETA: 1s - loss: 0.2560 - accuracy: 0.90 - ETA: 1s - loss: 0.2559 - accuracy: 0.90 - ETA: 1s - loss: 0.2557 - accuracy: 0.90 - ETA: 0s - loss: 0.2556 - accuracy: 0.90 - ETA: 0s - loss: 0.2555 - accuracy: 0.90 - ETA: 0s - loss: 0.2554 - accuracy: 0.90 - ETA: 0s - loss: 0.2554 - accuracy: 0.90 - ETA: 0s - loss: 0.2553 - accuracy: 0.90 - ETA: 0s - loss: 0.2553 - accuracy: 0.90 - ETA: 0s - loss: 0.2552 - accuracy: 0.90 - ETA: 0s - loss: 0.2552 - accuracy: 0.90 - ETA: 0s - loss: 0.2551 - accuracy: 0.90 - ETA: 0s - loss: 0.2551 - accuracy: 0.90 - ETA: 0s - loss: 0.2550 - accuracy: 0.90 - ETA: 0s - loss: 0.2550 - accuracy: 0.90 - ETA: 0s - loss: 0.2549 - accuracy: 0.90 - ETA: 0s - loss: 0.2549 - accuracy: 0.90 - ETA: 0s - loss: 0.2549 - accuracy: 0.90 - ETA: 0s - loss: 0.2549 - accuracy: 0.90 - ETA: 0s - loss: 0.2548 - accuracy: 0.90 - ETA: 0s - loss: 0.2548 - accuracy: 0.90 - 3s 2ms/step - loss: 0.2549 - accuracy: 0.9055 - val_loss: 0.3480 - val_accuracy: 0.8780\n",
      "Epoch 10/10\n",
      "1875/1875 [==============================] - ETA: 7s - loss: 0.2662 - accuracy: 0.90 - ETA: 2s - loss: 0.2650 - accuracy: 0.90 - ETA: 2s - loss: 0.2537 - accuracy: 0.90 - ETA: 2s - loss: 0.2497 - accuracy: 0.90 - ETA: 2s - loss: 0.2478 - accuracy: 0.90 - ETA: 2s - loss: 0.2472 - accuracy: 0.90 - ETA: 2s - loss: 0.2470 - accuracy: 0.90 - ETA: 2s - loss: 0.2466 - accuracy: 0.90 - ETA: 2s - loss: 0.2460 - accuracy: 0.90 - ETA: 2s - loss: 0.2460 - accuracy: 0.90 - ETA: 2s - loss: 0.2462 - accuracy: 0.90 - ETA: 2s - loss: 0.2461 - accuracy: 0.90 - ETA: 2s - loss: 0.2461 - accuracy: 0.90 - ETA: 2s - loss: 0.2461 - accuracy: 0.90 - ETA: 2s - loss: 0.2460 - accuracy: 0.90 - ETA: 1s - loss: 0.2459 - accuracy: 0.90 - ETA: 1s - loss: 0.2458 - accuracy: 0.90 - ETA: 1s - loss: 0.2456 - accuracy: 0.90 - ETA: 1s - loss: 0.2456 - accuracy: 0.90 - ETA: 1s - loss: 0.2455 - accuracy: 0.90 - ETA: 1s - loss: 0.2454 - accuracy: 0.90 - ETA: 1s - loss: 0.2454 - accuracy: 0.90 - ETA: 1s - loss: 0.2454 - accuracy: 0.90 - ETA: 1s - loss: 0.2453 - accuracy: 0.90 - ETA: 1s - loss: 0.2453 - accuracy: 0.90 - ETA: 1s - loss: 0.2452 - accuracy: 0.90 - ETA: 1s - loss: 0.2452 - accuracy: 0.90 - ETA: 1s - loss: 0.2451 - accuracy: 0.90 - ETA: 1s - loss: 0.2451 - accuracy: 0.90 - ETA: 1s - loss: 0.2451 - accuracy: 0.90 - ETA: 1s - loss: 0.2450 - accuracy: 0.90 - ETA: 1s - loss: 0.2450 - accuracy: 0.90 - ETA: 1s - loss: 0.2449 - accuracy: 0.90 - ETA: 1s - loss: 0.2449 - accuracy: 0.90 - ETA: 1s - loss: 0.2448 - accuracy: 0.90 - ETA: 0s - loss: 0.2448 - accuracy: 0.90 - ETA: 0s - loss: 0.2448 - accuracy: 0.90 - ETA: 0s - loss: 0.2447 - accuracy: 0.90 - ETA: 0s - loss: 0.2447 - accuracy: 0.90 - ETA: 0s - loss: 0.2446 - accuracy: 0.90 - ETA: 0s - loss: 0.2446 - accuracy: 0.90 - ETA: 0s - loss: 0.2445 - accuracy: 0.90 - ETA: 0s - loss: 0.2445 - accuracy: 0.90 - ETA: 0s - loss: 0.2445 - accuracy: 0.90 - ETA: 0s - loss: 0.2445 - accuracy: 0.90 - ETA: 0s - loss: 0.2445 - accuracy: 0.90 - ETA: 0s - loss: 0.2445 - accuracy: 0.90 - ETA: 0s - loss: 0.2445 - accuracy: 0.90 - ETA: 0s - loss: 0.2445 - accuracy: 0.90 - ETA: 0s - loss: 0.2445 - accuracy: 0.90 - ETA: 0s - loss: 0.2445 - accuracy: 0.90 - ETA: 0s - loss: 0.2445 - accuracy: 0.90 - ETA: 0s - loss: 0.2445 - accuracy: 0.90 - ETA: 0s - loss: 0.2445 - accuracy: 0.90 - ETA: 0s - loss: 0.2445 - accuracy: 0.90 - 3s 2ms/step - loss: 0.2445 - accuracy: 0.9080 - val_loss: 0.3573 - val_accuracy: 0.8778\n"
     ]
    },
    {
     "data": {
      "text/plain": [
       "<tensorflow.python.keras.callbacks.History at 0x2894a427808>"
      ]
     },
     "execution_count": 9,
     "metadata": {},
     "output_type": "execute_result"
    }
   ],
   "source": [
    "# Build the model with the optimal hyperparameters and train it on the data\n",
    "model = tuner.hypermodel.build(best_hps)\n",
    "model.fit(img_train, label_train, epochs = 10, validation_data = (img_test, label_test))"
   ]
  },
  {
   "cell_type": "markdown",
   "metadata": {
    "colab_type": "text",
    "id": "EQRpPHZsz-eC"
   },
   "source": [
    "The `my_dir/intro_to_kt` directory contains detailed logs and checkpoints for every trial (model configuration) run during the hyperparameter search. If you re-run the hyperparameter search, the Keras Tuner uses the existing state from these logs to resume the search. To disable this behavior, pass an additional `overwrite = True` argument while instantiating the tuner."
   ]
  },
  {
   "cell_type": "markdown",
   "metadata": {
    "colab_type": "text",
    "id": "sKwLOzKpFGAj"
   },
   "source": [
    "## Summary\n",
    "\n",
    "In this tutorial, you learned how to use the Keras Tuner to tune hyperparameters for a model. To learn more about the Keras Tuner, check out these additional resources:\n",
    "\n",
    "* [Keras Tuner on the TensorFlow blog](https://blog.tensorflow.org/2020/01/hyperparameter-tuning-with-keras-tuner.html)\n",
    "* [Keras Tuner website](https://keras-team.github.io/keras-tuner/)\n",
    "\n",
    "Also check out the [HParams Dashboard](https://www.tensorflow.org/tensorboard/hyperparameter_tuning_with_hparams) in TensorBoard to interactively tune your model hyperparameters."
   ]
  }
 ],
 "metadata": {
  "colab": {
   "collapsed_sections": [
    "Tce3stUlHN0L"
   ],
   "name": "keras_tuner.ipynb",
   "private_outputs": true,
   "provenance": [],
   "toc_visible": true
  },
  "kernelspec": {
   "display_name": "TensorFlow-GPU-1.13-2",
   "language": "python",
   "name": "tf-gpu2"
  },
  "language_info": {
   "codemirror_mode": {
    "name": "ipython",
    "version": 3
   },
   "file_extension": ".py",
   "mimetype": "text/x-python",
   "name": "python",
   "nbconvert_exporter": "python",
   "pygments_lexer": "ipython3",
   "version": "3.7.7"
  }
 },
 "nbformat": 4,
 "nbformat_minor": 1
}
